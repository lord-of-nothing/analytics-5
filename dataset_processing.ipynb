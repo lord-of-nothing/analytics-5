{
 "cells": [
  {
   "cell_type": "markdown",
   "id": "835cd937",
   "metadata": {},
   "source": [
    "## О первичных преобразованиях датасета"
   ]
  },
  {
   "cell_type": "markdown",
   "id": "0755b5ad",
   "metadata": {},
   "source": [
    "Нужно загрузить датасет в DataLens.\n",
    "Проблема -- датасет весит 1 ГБ, а загружать можно не более 10 файлов не более 200 МБ каждый.\n",
    "200 МБ * 10 приблизительно равно 2 ГБ, так что данные совершенно точно поместятся в DataLens -- но не напрямую.\n",
    "\n",
    "Идея -- уменьшить объём файла с данными, заменив строки числами. То, что получится, разбить по столбцам так, чтобы каждый файл не превышал 200 МБ, и тремя файлами загрузить в DataLens."
   ]
  },
  {
   "cell_type": "code",
   "execution_count": 1,
   "id": "fa6b1c58",
   "metadata": {},
   "outputs": [],
   "source": [
    "import pandas as pd"
   ]
  },
  {
   "cell_type": "code",
   "execution_count": 2,
   "id": "321664aa",
   "metadata": {},
   "outputs": [],
   "source": [
    "full = pd.read_csv('full.csv')\n",
    "full.drop(full.filter(regex=\"Unname\"),axis=1, inplace=True)"
   ]
  },
  {
   "cell_type": "code",
   "execution_count": 3,
   "id": "8545709e",
   "metadata": {},
   "outputs": [
    {
     "data": {
      "text/html": [
       "<div>\n",
       "<style scoped>\n",
       "    .dataframe tbody tr th:only-of-type {\n",
       "        vertical-align: middle;\n",
       "    }\n",
       "\n",
       "    .dataframe tbody tr th {\n",
       "        vertical-align: top;\n",
       "    }\n",
       "\n",
       "    .dataframe thead th {\n",
       "        text-align: right;\n",
       "    }\n",
       "</style>\n",
       "<table border=\"1\" class=\"dataframe\">\n",
       "  <thead>\n",
       "    <tr style=\"text-align: right;\">\n",
       "      <th></th>\n",
       "      <th>userid</th>\n",
       "      <th>sessionid</th>\n",
       "      <th>from</th>\n",
       "      <th>timestamp</th>\n",
       "      <th>action</th>\n",
       "      <th>value</th>\n",
       "      <th>category</th>\n",
       "      <th>age</th>\n",
       "      <th>gender</th>\n",
       "      <th>city</th>\n",
       "    </tr>\n",
       "  </thead>\n",
       "  <tbody>\n",
       "    <tr>\n",
       "      <th>0</th>\n",
       "      <td>user_10000</td>\n",
       "      <td>1</td>\n",
       "      <td>По рекламе</td>\n",
       "      <td>2021-12-29T08:52:55</td>\n",
       "      <td>mainpage</td>\n",
       "      <td>0.000000</td>\n",
       "      <td>None</td>\n",
       "      <td>24</td>\n",
       "      <td>Ж</td>\n",
       "      <td>Волгоград</td>\n",
       "    </tr>\n",
       "    <tr>\n",
       "      <th>1</th>\n",
       "      <td>user_10000</td>\n",
       "      <td>2</td>\n",
       "      <td>None</td>\n",
       "      <td>2022-01-03T08:53:04</td>\n",
       "      <td>category</td>\n",
       "      <td>0.000000</td>\n",
       "      <td>Красота и здоровье</td>\n",
       "      <td>24</td>\n",
       "      <td>Ж</td>\n",
       "      <td>Волгоград</td>\n",
       "    </tr>\n",
       "    <tr>\n",
       "      <th>2</th>\n",
       "      <td>user_10000</td>\n",
       "      <td>2</td>\n",
       "      <td>Из мессенджеров</td>\n",
       "      <td>2022-01-03T08:53:18</td>\n",
       "      <td>cart</td>\n",
       "      <td>24498.611274</td>\n",
       "      <td>Одежда и обувь</td>\n",
       "      <td>24</td>\n",
       "      <td>Ж</td>\n",
       "      <td>Волгоград</td>\n",
       "    </tr>\n",
       "    <tr>\n",
       "      <th>3</th>\n",
       "      <td>user_10000</td>\n",
       "      <td>2</td>\n",
       "      <td>None</td>\n",
       "      <td>2022-01-03T08:53:39</td>\n",
       "      <td>checkout</td>\n",
       "      <td>13800.000000</td>\n",
       "      <td>None</td>\n",
       "      <td>24</td>\n",
       "      <td>Ж</td>\n",
       "      <td>Волгоград</td>\n",
       "    </tr>\n",
       "    <tr>\n",
       "      <th>4</th>\n",
       "      <td>user_10000</td>\n",
       "      <td>2</td>\n",
       "      <td>None</td>\n",
       "      <td>2022-01-03T08:54:03</td>\n",
       "      <td>confirmation</td>\n",
       "      <td>13800.000000</td>\n",
       "      <td>None</td>\n",
       "      <td>24</td>\n",
       "      <td>Ж</td>\n",
       "      <td>Волгоград</td>\n",
       "    </tr>\n",
       "    <tr>\n",
       "      <th>...</th>\n",
       "      <td>...</td>\n",
       "      <td>...</td>\n",
       "      <td>...</td>\n",
       "      <td>...</td>\n",
       "      <td>...</td>\n",
       "      <td>...</td>\n",
       "      <td>...</td>\n",
       "      <td>...</td>\n",
       "      <td>...</td>\n",
       "      <td>...</td>\n",
       "    </tr>\n",
       "    <tr>\n",
       "      <th>7598784</th>\n",
       "      <td>user_12499</td>\n",
       "      <td>590</td>\n",
       "      <td>None</td>\n",
       "      <td>2025-01-03T02:01:24</td>\n",
       "      <td>search</td>\n",
       "      <td>0.000000</td>\n",
       "      <td>Товары для детей</td>\n",
       "      <td>51</td>\n",
       "      <td>Ж</td>\n",
       "      <td>Москва</td>\n",
       "    </tr>\n",
       "    <tr>\n",
       "      <th>7598785</th>\n",
       "      <td>user_12499</td>\n",
       "      <td>590</td>\n",
       "      <td>По рекламе</td>\n",
       "      <td>2025-01-03T02:01:30</td>\n",
       "      <td>search</td>\n",
       "      <td>0.000000</td>\n",
       "      <td>Продовольственные товары</td>\n",
       "      <td>51</td>\n",
       "      <td>Ж</td>\n",
       "      <td>Москва</td>\n",
       "    </tr>\n",
       "    <tr>\n",
       "      <th>7598786</th>\n",
       "      <td>user_12499</td>\n",
       "      <td>590</td>\n",
       "      <td>None</td>\n",
       "      <td>2025-01-03T02:01:50</td>\n",
       "      <td>product</td>\n",
       "      <td>0.000000</td>\n",
       "      <td>Продовольственные товары</td>\n",
       "      <td>51</td>\n",
       "      <td>Ж</td>\n",
       "      <td>Москва</td>\n",
       "    </tr>\n",
       "    <tr>\n",
       "      <th>7598787</th>\n",
       "      <td>user_12499</td>\n",
       "      <td>590</td>\n",
       "      <td>С сохраненных страниц</td>\n",
       "      <td>2025-01-03T02:01:52</td>\n",
       "      <td>cart</td>\n",
       "      <td>16123.586449</td>\n",
       "      <td>Продовольственные товары</td>\n",
       "      <td>51</td>\n",
       "      <td>Ж</td>\n",
       "      <td>Москва</td>\n",
       "    </tr>\n",
       "    <tr>\n",
       "      <th>7598788</th>\n",
       "      <td>user_12499</td>\n",
       "      <td>590</td>\n",
       "      <td>None</td>\n",
       "      <td>2025-01-03T02:02:08</td>\n",
       "      <td>checkout</td>\n",
       "      <td>2930.000000</td>\n",
       "      <td>None</td>\n",
       "      <td>51</td>\n",
       "      <td>Ж</td>\n",
       "      <td>Москва</td>\n",
       "    </tr>\n",
       "  </tbody>\n",
       "</table>\n",
       "<p>7598789 rows × 10 columns</p>\n",
       "</div>"
      ],
      "text/plain": [
       "             userid  sessionid                   from            timestamp  \\\n",
       "0        user_10000          1             По рекламе  2021-12-29T08:52:55   \n",
       "1        user_10000          2                   None  2022-01-03T08:53:04   \n",
       "2        user_10000          2        Из мессенджеров  2022-01-03T08:53:18   \n",
       "3        user_10000          2                   None  2022-01-03T08:53:39   \n",
       "4        user_10000          2                   None  2022-01-03T08:54:03   \n",
       "...             ...        ...                    ...                  ...   \n",
       "7598784  user_12499        590                   None  2025-01-03T02:01:24   \n",
       "7598785  user_12499        590             По рекламе  2025-01-03T02:01:30   \n",
       "7598786  user_12499        590                   None  2025-01-03T02:01:50   \n",
       "7598787  user_12499        590  С сохраненных страниц  2025-01-03T02:01:52   \n",
       "7598788  user_12499        590                   None  2025-01-03T02:02:08   \n",
       "\n",
       "               action         value                  category  age gender  \\\n",
       "0            mainpage      0.000000                      None   24      Ж   \n",
       "1            category      0.000000        Красота и здоровье   24      Ж   \n",
       "2                cart  24498.611274            Одежда и обувь   24      Ж   \n",
       "3            checkout  13800.000000                      None   24      Ж   \n",
       "4        confirmation  13800.000000                      None   24      Ж   \n",
       "...               ...           ...                       ...  ...    ...   \n",
       "7598784        search      0.000000          Товары для детей   51      Ж   \n",
       "7598785        search      0.000000  Продовольственные товары   51      Ж   \n",
       "7598786       product      0.000000  Продовольственные товары   51      Ж   \n",
       "7598787          cart  16123.586449  Продовольственные товары   51      Ж   \n",
       "7598788      checkout   2930.000000                      None   51      Ж   \n",
       "\n",
       "              city  \n",
       "0        Волгоград  \n",
       "1        Волгоград  \n",
       "2        Волгоград  \n",
       "3        Волгоград  \n",
       "4        Волгоград  \n",
       "...            ...  \n",
       "7598784     Москва  \n",
       "7598785     Москва  \n",
       "7598786     Москва  \n",
       "7598787     Москва  \n",
       "7598788     Москва  \n",
       "\n",
       "[7598789 rows x 10 columns]"
      ]
     },
     "execution_count": 3,
     "metadata": {},
     "output_type": "execute_result"
    }
   ],
   "source": [
    "full"
   ]
  },
  {
   "cell_type": "markdown",
   "id": "f8113e82",
   "metadata": {},
   "source": [
    "### Заменим строки числами для уменьшения объёма"
   ]
  },
  {
   "cell_type": "code",
   "execution_count": 4,
   "id": "5ef737c8",
   "metadata": {},
   "outputs": [
    {
     "name": "stdout",
     "output_type": "stream",
     "text": [
      "0 По рекламе\n",
      "1 None\n",
      "2 Из мессенджеров\n",
      "3 Внутренние переходы\n",
      "4 По ссылкам на сайтах\n",
      "5 С почтовых рассылок\n",
      "6 Из поисковых систем\n",
      "7 С сохраненных страниц\n",
      "8 Из рекомендательных систем\n",
      "9 Прямые заходы\n"
     ]
    }
   ],
   "source": [
    "for i, name in enumerate(full['from'].unique()):\n",
    "    print(i, name)\n",
    "    full.loc[full['from'] == name, 'from'] = i"
   ]
  },
  {
   "cell_type": "code",
   "execution_count": 5,
   "id": "22b15377",
   "metadata": {},
   "outputs": [
    {
     "name": "stdout",
     "output_type": "stream",
     "text": [
      "0 mainpage\n",
      "1 category\n",
      "2 cart\n",
      "3 checkout\n",
      "4 confirmation\n",
      "5 search\n",
      "6 product\n"
     ]
    }
   ],
   "source": [
    "for i, name in enumerate(full['action'].unique()):\n",
    "    print(i, name)\n",
    "    full.loc[full['action'] == name, 'action'] = i"
   ]
  },
  {
   "cell_type": "code",
   "execution_count": 6,
   "id": "82c372cf",
   "metadata": {},
   "outputs": [
    {
     "name": "stdout",
     "output_type": "stream",
     "text": [
      "0 None\n",
      "1 Красота и здоровье\n",
      "2 Одежда и обувь\n",
      "3 Авто/мото товары\n",
      "4 Товары для детей\n",
      "5 Продовольственные товары\n",
      "6 Электроника и бытовая техника\n"
     ]
    }
   ],
   "source": [
    "for i, name in enumerate(full['category'].unique()):\n",
    "    print(i, name)\n",
    "    full.loc[full['category'] == name, 'category'] = i"
   ]
  },
  {
   "cell_type": "code",
   "execution_count": 7,
   "id": "22369507",
   "metadata": {},
   "outputs": [
    {
     "name": "stdout",
     "output_type": "stream",
     "text": [
      "0 Волгоград\n",
      "1 Санкт-Петербург\n",
      "2 Москва\n",
      "3 Нижний Новгород\n",
      "4 Челябинск\n",
      "5 Новосибирск\n",
      "6 Омск\n",
      "7 Екатеринбург\n",
      "8 Уфа\n",
      "9 Самара\n",
      "10 Казань\n",
      "11 Красноярск\n",
      "12 Ростов-на-Дону\n",
      "13 Воронеж\n"
     ]
    }
   ],
   "source": [
    "for i, name in enumerate(full['city'].unique()):\n",
    "    print(i, name)\n",
    "    full.loc[full['city'] == name, 'city'] = i"
   ]
  },
  {
   "cell_type": "markdown",
   "id": "e44cb8bf",
   "metadata": {},
   "source": [
    "### Найдём и отметим первые и последние действия пользователей\n",
    "(должно было быть полезным для дальнейших расчётов, но пригодилось не целиком, потому что особенности данных)"
   ]
  },
  {
   "cell_type": "code",
   "execution_count": 8,
   "id": "0ada2996",
   "metadata": {},
   "outputs": [],
   "source": [
    "users_min = full.groupby('userid')['timestamp'].min()\n",
    "full = full.merge(users_min, on='userid')\n",
    "full['is_first'] = full['timestamp_x'] == full['timestamp_y']\n",
    "full.drop(columns=['timestamp_y'], inplace=True)\n",
    "full.rename(columns={\"timestamp_x\": \"timestamp\"}, inplace=True)"
   ]
  },
  {
   "cell_type": "code",
   "execution_count": 9,
   "id": "9402fe5d",
   "metadata": {},
   "outputs": [],
   "source": [
    "users_max = full.groupby('userid')['timestamp'].max()\n",
    "full = full.merge(users_max, on='userid')\n",
    "full['is_last'] = full['timestamp_x'] == full['timestamp_y']\n",
    "full.drop(columns=['timestamp_y'], inplace=True)\n",
    "full.rename(columns={\"timestamp_x\": \"timestamp\"}, inplace=True)"
   ]
  },
  {
   "cell_type": "markdown",
   "id": "ba8c0e3b",
   "metadata": {},
   "source": [
    "### Ещё немного изменений формата записей для уменьшения объёма данных"
   ]
  },
  {
   "cell_type": "markdown",
   "id": "cd8daf42",
   "metadata": {},
   "source": [
    "Проверяем, что все userid начинаются на user_, и убираем эту часть:"
   ]
  },
  {
   "cell_type": "code",
   "execution_count": 10,
   "id": "e53f7299",
   "metadata": {},
   "outputs": [
    {
     "data": {
      "text/plain": [
       "array([ True])"
      ]
     },
     "execution_count": 10,
     "metadata": {},
     "output_type": "execute_result"
    }
   ],
   "source": [
    "a = full['userid'].str.startswith('user_')\n",
    "a.unique()"
   ]
  },
  {
   "cell_type": "code",
   "execution_count": 11,
   "id": "fbbc0980",
   "metadata": {},
   "outputs": [],
   "source": [
    "full['userid'] = full['userid'].str.slice(start=5)\n",
    "full['userid'] = full['userid'].astype(int)"
   ]
  },
  {
   "cell_type": "markdown",
   "id": "2f944a03",
   "metadata": {},
   "source": [
    "Дату и время из строки преобразуем в число-timestamp:"
   ]
  },
  {
   "cell_type": "code",
   "execution_count": 12,
   "id": "a97ef863",
   "metadata": {},
   "outputs": [],
   "source": [
    "full['timestamp'] = pd.to_datetime(full['timestamp'])\n",
    "full['timestamp'] = full['timestamp'].view(int) // 10**9"
   ]
  },
  {
   "cell_type": "markdown",
   "id": "7edf4715",
   "metadata": {},
   "source": [
    "Округлим все value до сотых, потому что денежные единицы меньше копейки никого не интересуют:"
   ]
  },
  {
   "cell_type": "code",
   "execution_count": 13,
   "id": "7653e28d",
   "metadata": {},
   "outputs": [],
   "source": [
    "full['value'] = full['value'].round(2)"
   ]
  },
  {
   "cell_type": "markdown",
   "id": "d1e8b57d",
   "metadata": {},
   "source": [
    "Можно даже bool'ы к int'ам привести:"
   ]
  },
  {
   "cell_type": "code",
   "execution_count": 14,
   "id": "322ae9b7",
   "metadata": {},
   "outputs": [],
   "source": [
    "full['is_first'] = full['is_first'].astype(int)\n",
    "full['is_last'] = full['is_last'].astype(int)"
   ]
  },
  {
   "cell_type": "markdown",
   "id": "19e1db45",
   "metadata": {},
   "source": [
    "### Методом проб и ошибок разбиваем данные на три части по столбцам так, чтобы каждый файл весил менее 200 МБ"
   ]
  },
  {
   "cell_type": "code",
   "execution_count": 15,
   "id": "ac2bb532",
   "metadata": {},
   "outputs": [],
   "source": [
    "full.to_csv('part0.csv',\n",
    "           columns=['userid', 'sessionid', 'from', 'category', 'action'])"
   ]
  },
  {
   "cell_type": "code",
   "execution_count": null,
   "id": "9e4887b5",
   "metadata": {},
   "outputs": [],
   "source": [
    "full.to_csv('part1.csv',\n",
    "           columns=['timestamp', 'value'])"
   ]
  },
  {
   "cell_type": "code",
   "execution_count": null,
   "id": "11eb892c",
   "metadata": {},
   "outputs": [],
   "source": [
    "full.to_csv('part2.csv',\n",
    "           columns=['age', 'gender', 'city', 'is_first', 'is_last'])"
   ]
  },
  {
   "cell_type": "markdown",
   "id": "008f9291",
   "metadata": {},
   "source": [
    "Сработало!"
   ]
  }
 ],
 "metadata": {
  "kernelspec": {
   "display_name": "Python 3 (ipykernel)",
   "language": "python",
   "name": "python3"
  },
  "language_info": {
   "codemirror_mode": {
    "name": "ipython",
    "version": 3
   },
   "file_extension": ".py",
   "mimetype": "text/x-python",
   "name": "python",
   "nbconvert_exporter": "python",
   "pygments_lexer": "ipython3",
   "version": "3.11.0"
  }
 },
 "nbformat": 4,
 "nbformat_minor": 5
}
